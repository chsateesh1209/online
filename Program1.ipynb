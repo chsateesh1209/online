{
  "nbformat": 4,
  "nbformat_minor": 0,
  "metadata": {
    "colab": {
      "provenance": [],
      "authorship_tag": "ABX9TyMxQL3Fd+3RJjW6IbQ3Fl+2",
      "include_colab_link": true
    },
    "kernelspec": {
      "name": "python3",
      "display_name": "Python 3"
    },
    "language_info": {
      "name": "python"
    }
  },
  "cells": [
    {
      "cell_type": "markdown",
      "metadata": {
        "id": "view-in-github",
        "colab_type": "text"
      },
      "source": [
        "<a href=\"https://colab.research.google.com/github/chsateesh1209/online/blob/main/Program1.ipynb\" target=\"_parent\"><img src=\"https://colab.research.google.com/assets/colab-badge.svg\" alt=\"Open In Colab\"/></a>"
      ]
    },
    {
      "cell_type": "code",
      "source": [
        "a= 10\n",
        "print(\"The Value of a is :\",a)\n",
        "print(\"Data Type Of a is :\",type(a))\n",
        "print(\"Memory Address of a is :\", id(a))"
      ],
      "metadata": {
        "colab": {
          "base_uri": "https://localhost:8080/"
        },
        "id": "ccOiq7FAg-eR",
        "outputId": "c0a1c5bd-3ab6-4c50-9195-72e8d831c1fd"
      },
      "execution_count": 12,
      "outputs": [
        {
          "output_type": "stream",
          "name": "stdout",
          "text": [
            "The Value of a is : 10\n",
            "Data Type Of a is : <class 'int'>\n",
            "Memory Address of a is : 135208681079312\n"
          ]
        }
      ]
    }
  ]
}